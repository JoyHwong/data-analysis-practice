{
 "cells": [
  {
   "cell_type": "code",
   "execution_count": 5,
   "metadata": {
    "collapsed": false
   },
   "outputs": [
    {
     "name": "stdout",
     "output_type": "stream",
     "text": [
      "Using matplotlib backend: MacOSX\nPopulating the interactive namespace from numpy and matplotlib\n"
     ]
    },
    {
     "data": {
      "text/plain": [
       "<matplotlib.axes._subplots.AxesSubplot at 0x10ad881d0>"
      ]
     },
     "execution_count": 5,
     "metadata": {},
     "output_type": "execute_result"
    }
   ],
   "source": [
    "%pylab\n",
    "\n",
    "import json\n",
    "import pandas as pd\n",
    "import numpy as np\n",
    "\n",
    "from pandas import DataFrame, Series\n",
    "\n",
    "path = 'ch02/usagov_bitly_data2013-05-17-1368832207.txt'\n",
    "records = [json.loads(line) for line in open(path, encoding='utf8')]\n",
    "\n",
    "time_zones = [rec['tz'] for rec in records if 'tz' in rec]\n",
    "\n",
    "frame = DataFrame(records)\n",
    "\n",
    "clean_tz = frame['tz'].fillna(\"Missing\")\n",
    "\n",
    "clean_tz[clean_tz == ''] == 'Unknown'\n",
    "\n",
    "tz_counts = clean_tz.value_counts()\n",
    "\n",
    "cframe = frame[frame.a.notnull()]\n",
    "\n",
    "operating_system = np.where(cframe['a'].str.contains('Windows'), 'Windows', 'Not Windows')\n",
    "\n",
    "by_tz_os = cframe.groupby(['tz', operating_system])\n",
    "\n",
    "agg_counts = by_tz_os.size().unstack().fillna(0)\n",
    "\n",
    "indexer = agg_counts.sum(1).argsort()\n",
    "\n",
    "count_subset = agg_counts.take(indexer)[-10:]\n",
    "\n",
    "normed_subset = count_subset.div(count_subset.sum(1), axis=0)\n",
    "\n",
    "normed_subset.plot(kind='barh', stacked=True)"
   ]
  },
  {
   "cell_type": "code",
   "execution_count": null,
   "metadata": {},
   "outputs": [],
   "source": []
  }
 ],
 "metadata": {
  "kernelspec": {
   "display_name": "Python 2",
   "language": "python",
   "name": "python2"
  },
  "language_info": {
   "codemirror_mode": {
    "name": "ipython",
    "version": 2
   },
   "file_extension": ".py",
   "mimetype": "text/x-python",
   "name": "python",
   "nbconvert_exporter": "python",
   "pygments_lexer": "ipython2",
   "version": "2.7.6"
  }
 },
 "nbformat": 4,
 "nbformat_minor": 0
}
